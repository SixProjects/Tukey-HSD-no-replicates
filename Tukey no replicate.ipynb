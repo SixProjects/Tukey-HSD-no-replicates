{
 "cells": [
  {
   "cell_type": "code",
   "execution_count": 2,
   "id": "6b26aea5-faef-461c-b190-57428188f5e4",
   "metadata": {},
   "outputs": [],
   "source": [
    "import numpy as np\n",
    "import pandas as pd\n",
    "from statsmodels.stats.libqsturng import psturng, qsturng"
   ]
  },
  {
   "cell_type": "code",
   "execution_count": 8,
   "id": "c796ed6d-4b33-4a66-a68c-cd35592299dc",
   "metadata": {},
   "outputs": [],
   "source": [
    "def SEDifference(n1, n2, MSE):\n",
    "    return (1/np.sqrt(2))*np.sqrt(MSE*(1/n1+1/n2))#standard error difference formula"
   ]
  },
  {
   "cell_type": "code",
   "execution_count": null,
   "id": "8e3b7edb-b408-40f3-a0db-449d792c76da",
   "metadata": {},
   "outputs": [],
   "source": [
    "name\tmean\tSD\tN\n",
    "Tillamook\t0.0802\t0.011349361\t10\n",
    "Newport\t0.0748\t0.008041921\t8\n",
    "Petersburg\t0.103442857\t0.015007032\t7\n",
    "Magadan\t0.0780125\t0.012108617\t8\n",
    "Tvarminne\t0.0957\t0.0118323\t6"
   ]
  },
  {
   "cell_type": "code",
   "execution_count": null,
   "id": "ff1bcae6-4be8-4e6c-8cb3-83c55b250d2e",
   "metadata": {},
   "outputs": [],
   "source": [
    "#taken from https://www.biostathandbook.com/onewayanova.html"
   ]
  },
  {
   "cell_type": "code",
   "execution_count": 4,
   "id": "99f0f400-1daa-4f8e-89bb-356321effdd7",
   "metadata": {},
   "outputs": [
    {
     "data": {
      "text/html": [
       "<div>\n",
       "<style scoped>\n",
       "    .dataframe tbody tr th:only-of-type {\n",
       "        vertical-align: middle;\n",
       "    }\n",
       "\n",
       "    .dataframe tbody tr th {\n",
       "        vertical-align: top;\n",
       "    }\n",
       "\n",
       "    .dataframe thead th {\n",
       "        text-align: right;\n",
       "    }\n",
       "</style>\n",
       "<table border=\"1\" class=\"dataframe\">\n",
       "  <thead>\n",
       "    <tr style=\"text-align: right;\">\n",
       "      <th></th>\n",
       "      <th>name</th>\n",
       "      <th>mean</th>\n",
       "      <th>SD</th>\n",
       "      <th>N</th>\n",
       "    </tr>\n",
       "  </thead>\n",
       "  <tbody>\n",
       "    <tr>\n",
       "      <th>0</th>\n",
       "      <td>Tillamook</td>\n",
       "      <td>0.080200</td>\n",
       "      <td>0.011349</td>\n",
       "      <td>10</td>\n",
       "    </tr>\n",
       "    <tr>\n",
       "      <th>1</th>\n",
       "      <td>Newport</td>\n",
       "      <td>0.074800</td>\n",
       "      <td>0.008042</td>\n",
       "      <td>8</td>\n",
       "    </tr>\n",
       "    <tr>\n",
       "      <th>2</th>\n",
       "      <td>Petersburg</td>\n",
       "      <td>0.103443</td>\n",
       "      <td>0.015007</td>\n",
       "      <td>7</td>\n",
       "    </tr>\n",
       "    <tr>\n",
       "      <th>3</th>\n",
       "      <td>Magadan</td>\n",
       "      <td>0.078012</td>\n",
       "      <td>0.012109</td>\n",
       "      <td>8</td>\n",
       "    </tr>\n",
       "    <tr>\n",
       "      <th>4</th>\n",
       "      <td>Tvarminne</td>\n",
       "      <td>0.095700</td>\n",
       "      <td>0.011832</td>\n",
       "      <td>6</td>\n",
       "    </tr>\n",
       "  </tbody>\n",
       "</table>\n",
       "</div>"
      ],
      "text/plain": [
       "         name      mean        SD   N\n",
       "0   Tillamook  0.080200  0.011349  10\n",
       "1     Newport  0.074800  0.008042   8\n",
       "2  Petersburg  0.103443  0.015007   7\n",
       "3     Magadan  0.078012  0.012109   8\n",
       "4   Tvarminne  0.095700  0.011832   6"
      ]
     },
     "execution_count": 4,
     "metadata": {},
     "output_type": "execute_result"
    }
   ],
   "source": [
    "datastat=pd.read_clipboard()\n",
    "datastat"
   ]
  },
  {
   "cell_type": "code",
   "execution_count": 5,
   "id": "3471636b-3729-4d75-a17d-d81fd25bb39a",
   "metadata": {},
   "outputs": [],
   "source": [
    "SSE=0 #SUM OF SQUARES ERROR\n",
    "for i in range(len(datastat[\"SD\"].values)):\n",
    "    SSE1=(datastat[\"SD\"].values[i])**2\n",
    "    SSE2=(datastat[\"N\"].values[i]-1)*SSE1 ##group df*group variance\n",
    "    SSE=SSE+SSE2##sum"
   ]
  },
  {
   "cell_type": "code",
   "execution_count": 6,
   "id": "5d42bde4-6d16-41b6-808a-a36b5503c1ee",
   "metadata": {},
   "outputs": [],
   "source": [
    "MSE=SSE/(sum(datastat[\"N\"].values)-len(datastat[\"SD\"].values)) #SSE/df MEAN SQUARED ERROR"
   ]
  },
  {
   "cell_type": "code",
   "execution_count": 9,
   "id": "4828a1c2-7598-4306-80d2-7965aeb94a0e",
   "metadata": {},
   "outputs": [],
   "source": [
    "output001=pd.DataFrame()\n",
    "output1=pd.DataFrame()\n",
    "\n",
    "for b in range(len(datastat[\"SD\"].values)-1):\n",
    "    c=b+1\n",
    "    for d in range(c,len(datastat[\"SD\"].values)):\n",
    "        q=np.absolute(datastat[\"mean\"].values[b]-datastat[\"mean\"].values[d])/SEDifference(datastat[\"N\"].values[b],datastat[\"N\"].values[d],MSE) #mean difference/standard error difference\n",
    "        output001['name1']=[datastat[\"name\"].values[b]] # for some reason square brackets are absolutely neccessary\n",
    "        output001['name2']=datastat[\"name\"].values[d]\n",
    "        output001['q']=q\n",
    "        output001['p']=psturng(q, len(datastat[\"N\"].values), (sum(datastat[\"N\"].values)-len(datastat[\"N\"].values))) #convert to p values\n",
    "        output1=pd.concat([output1, output001])\n"
   ]
  },
  {
   "cell_type": "code",
   "execution_count": 10,
   "id": "65cbb372-e688-4f0f-aafd-efc9bafbdbf2",
   "metadata": {},
   "outputs": [
    {
     "data": {
      "text/html": [
       "<div>\n",
       "<style scoped>\n",
       "    .dataframe tbody tr th:only-of-type {\n",
       "        vertical-align: middle;\n",
       "    }\n",
       "\n",
       "    .dataframe tbody tr th {\n",
       "        vertical-align: top;\n",
       "    }\n",
       "\n",
       "    .dataframe thead th {\n",
       "        text-align: right;\n",
       "    }\n",
       "</style>\n",
       "<table border=\"1\" class=\"dataframe\">\n",
       "  <thead>\n",
       "    <tr style=\"text-align: right;\">\n",
       "      <th></th>\n",
       "      <th>name1</th>\n",
       "      <th>name2</th>\n",
       "      <th>q</th>\n",
       "      <th>p</th>\n",
       "    </tr>\n",
       "  </thead>\n",
       "  <tbody>\n",
       "    <tr>\n",
       "      <th>0</th>\n",
       "      <td>Tillamook</td>\n",
       "      <td>Newport</td>\n",
       "      <td>1.370848</td>\n",
       "      <td>0.853661</td>\n",
       "    </tr>\n",
       "    <tr>\n",
       "      <th>0</th>\n",
       "      <td>Tillamook</td>\n",
       "      <td>Petersburg</td>\n",
       "      <td>5.679381</td>\n",
       "      <td>0.002689</td>\n",
       "    </tr>\n",
       "    <tr>\n",
       "      <th>0</th>\n",
       "      <td>Tillamook</td>\n",
       "      <td>Magadan</td>\n",
       "      <td>0.555321</td>\n",
       "      <td>0.900000</td>\n",
       "    </tr>\n",
       "    <tr>\n",
       "      <th>0</th>\n",
       "      <td>Tillamook</td>\n",
       "      <td>Tvarminne</td>\n",
       "      <td>3.614384</td>\n",
       "      <td>0.101991</td>\n",
       "    </tr>\n",
       "    <tr>\n",
       "      <th>0</th>\n",
       "      <td>Newport</td>\n",
       "      <td>Petersburg</td>\n",
       "      <td>6.664255</td>\n",
       "      <td>0.001000</td>\n",
       "    </tr>\n",
       "    <tr>\n",
       "      <th>0</th>\n",
       "      <td>Newport</td>\n",
       "      <td>Magadan</td>\n",
       "      <td>0.773678</td>\n",
       "      <td>0.900000</td>\n",
       "    </tr>\n",
       "    <tr>\n",
       "      <th>0</th>\n",
       "      <td>Newport</td>\n",
       "      <td>Tvarminne</td>\n",
       "      <td>4.660042</td>\n",
       "      <td>0.018313</td>\n",
       "    </tr>\n",
       "    <tr>\n",
       "      <th>0</th>\n",
       "      <td>Petersburg</td>\n",
       "      <td>Magadan</td>\n",
       "      <td>5.916812</td>\n",
       "      <td>0.001679</td>\n",
       "    </tr>\n",
       "    <tr>\n",
       "      <th>0</th>\n",
       "      <td>Petersburg</td>\n",
       "      <td>Tvarminne</td>\n",
       "      <td>1.675873</td>\n",
       "      <td>0.734922</td>\n",
       "    </tr>\n",
       "    <tr>\n",
       "      <th>0</th>\n",
       "      <td>Magadan</td>\n",
       "      <td>Tvarminne</td>\n",
       "      <td>3.943755</td>\n",
       "      <td>0.061553</td>\n",
       "    </tr>\n",
       "  </tbody>\n",
       "</table>\n",
       "</div>"
      ],
      "text/plain": [
       "        name1       name2         q         p\n",
       "0   Tillamook     Newport  1.370848  0.853661\n",
       "0   Tillamook  Petersburg  5.679381  0.002689\n",
       "0   Tillamook     Magadan  0.555321  0.900000\n",
       "0   Tillamook   Tvarminne  3.614384  0.101991\n",
       "0     Newport  Petersburg  6.664255  0.001000\n",
       "0     Newport     Magadan  0.773678  0.900000\n",
       "0     Newport   Tvarminne  4.660042  0.018313\n",
       "0  Petersburg     Magadan  5.916812  0.001679\n",
       "0  Petersburg   Tvarminne  1.675873  0.734922\n",
       "0     Magadan   Tvarminne  3.943755  0.061553"
      ]
     },
     "execution_count": 10,
     "metadata": {},
     "output_type": "execute_result"
    }
   ],
   "source": [
    "output1"
   ]
  }
 ],
 "metadata": {
  "kernelspec": {
   "display_name": "Python 3",
   "language": "python",
   "name": "python3"
  },
  "language_info": {
   "codemirror_mode": {
    "name": "ipython",
    "version": 3
   },
   "file_extension": ".py",
   "mimetype": "text/x-python",
   "name": "python",
   "nbconvert_exporter": "python",
   "pygments_lexer": "ipython3",
   "version": "3.12.3"
  }
 },
 "nbformat": 4,
 "nbformat_minor": 5
}
